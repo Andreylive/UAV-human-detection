{
  "metadata": {
    "kernelspec": {
      "language": "python",
      "display_name": "Python 3",
      "name": "python3"
    },
    "language_info": {
      "name": "python",
      "version": "3.7.12",
      "mimetype": "text/x-python",
      "codemirror_mode": {
        "name": "ipython",
        "version": 3
      },
      "pygments_lexer": "ipython3",
      "nbconvert_exporter": "python",
      "file_extension": ".py"
    },
    "colab": {
      "provenance": [],
      "include_colab_link": true
    }
  },
  "nbformat_minor": 0,
  "nbformat": 4,
  "cells": [
    {
      "cell_type": "markdown",
      "metadata": {
        "id": "view-in-github",
        "colab_type": "text"
      },
      "source": [
        "<a href=\"https://colab.research.google.com/github/Andreylive/UAV-human-detection/blob/main/YOLO_v5_for_UAV_human_detection.ipynb\" target=\"_parent\"><img src=\"https://colab.research.google.com/assets/colab-badge.svg\" alt=\"Open In Colab\"/></a>"
      ]
    },
    {
      "cell_type": "code",
      "source": [
        "# Clone YOLOv5 repository\n",
        "!git clone https://github.com/ultralytics/yolov5\n",
        "%cd yolov5\n",
        "!git pull\n",
        "\n",
        "!git reset --hard 886f1c03d839575afecb059accf74296fad395b6"
      ],
      "metadata": {
        "_uuid": "8f2839f25d086af736a60e9eeb907d3b93b6e0e5",
        "_cell_guid": "b1076dfc-b9ad-4769-8c92-a6c4dae69d19",
        "execution": {
          "iopub.status.busy": "2023-04-27T08:00:55.080913Z",
          "iopub.execute_input": "2023-04-27T08:00:55.081362Z",
          "iopub.status.idle": "2023-04-27T08:01:00.513855Z",
          "shell.execute_reply.started": "2023-04-27T08:00:55.081320Z",
          "shell.execute_reply": "2023-04-27T08:01:00.512634Z"
        },
        "trusted": true,
        "id": "rErvW9VbcVMM"
      },
      "execution_count": 17,
      "outputs": []
    },
    {
      "cell_type": "code",
      "source": [
        "# Install dependencies\n",
        "!pip install -qr requirements.txt  # install dependencies (ignore errors)\n",
        "import torch\n",
        "\n",
        "from IPython.display import Image, clear_output  # to display images\n",
        "from utils.google_utils import gdrive_download  # to download models/datasets\n",
        "\n",
        "# Clear_output()\n",
        "print('Setup complete. Using torch %s %s' % (torch.__version__, torch.cuda.get_device_properties(0) if torch.cuda.is_available() else 'CPU'))"
      ],
      "metadata": {
        "execution": {
          "iopub.status.busy": "2023-04-27T08:01:06.715552Z",
          "iopub.execute_input": "2023-04-27T08:01:06.716018Z",
          "iopub.status.idle": "2023-04-27T08:01:56.575347Z",
          "shell.execute_reply.started": "2023-04-27T08:01:06.715972Z",
          "shell.execute_reply": "2023-04-27T08:01:56.573943Z"
        },
        "trusted": true,
        "id": "40OtrUBfcVMV"
      },
      "execution_count": 17,
      "outputs": []
    },
    {
      "cell_type": "code",
      "source": [
        "# Extract dataset\n",
        "!curl -L \"https://app.roboflow.com/ds/YCsKLvAbzh?key=wauxyPlLFl\" > roboflow.zip; unzip roboflow.zip; rm roboflow.zip"
      ],
      "metadata": {
        "execution": {
          "iopub.status.busy": "2023-04-27T08:01:56.577597Z",
          "iopub.execute_input": "2023-04-27T08:01:56.578661Z",
          "iopub.status.idle": "2023-04-27T08:01:59.909322Z",
          "shell.execute_reply.started": "2023-04-27T08:01:56.578613Z",
          "shell.execute_reply": "2023-04-27T08:01:59.907988Z"
        },
        "trusted": true,
        "id": "KnRMZ_PgcVMY"
      },
      "execution_count": 17,
      "outputs": []
    },
    {
      "cell_type": "code",
      "source": [
        "# Load YAML file with our data\n",
        "%cat data.yaml"
      ],
      "metadata": {
        "execution": {
          "iopub.status.busy": "2023-04-27T08:01:59.913157Z",
          "iopub.execute_input": "2023-04-27T08:01:59.913508Z",
          "iopub.status.idle": "2023-04-27T08:02:00.895749Z",
          "shell.execute_reply.started": "2023-04-27T08:01:59.913471Z",
          "shell.execute_reply": "2023-04-27T08:02:00.894508Z"
        },
        "trusted": true,
        "id": "3fcIGen1cVMa"
      },
      "execution_count": 17,
      "outputs": []
    },
    {
      "cell_type": "code",
      "source": [
        "# Define number of classes based on YAML\n",
        "import yaml\n",
        "with open(\"data.yaml\", 'r') as stream:\n",
        "    num_classes = str(yaml.safe_load(stream)['nc'])"
      ],
      "metadata": {
        "execution": {
          "iopub.status.busy": "2023-04-27T08:02:00.900319Z",
          "iopub.execute_input": "2023-04-27T08:02:00.900718Z",
          "iopub.status.idle": "2023-04-27T08:02:00.907778Z",
          "shell.execute_reply.started": "2023-04-27T08:02:00.900680Z",
          "shell.execute_reply": "2023-04-27T08:02:00.906408Z"
        },
        "trusted": true,
        "id": "24oGipvicVMc"
      },
      "execution_count": 6,
      "outputs": []
    },
    {
      "cell_type": "code",
      "source": [
        "# Show model configaration\n",
        "%cat ./data.yaml"
      ],
      "metadata": {
        "execution": {
          "iopub.status.busy": "2023-04-27T08:02:00.909373Z",
          "iopub.execute_input": "2023-04-27T08:02:00.910536Z",
          "iopub.status.idle": "2023-04-27T08:02:01.893793Z",
          "shell.execute_reply.started": "2023-04-27T08:02:00.910474Z",
          "shell.execute_reply": "2023-04-27T08:02:01.892497Z"
        },
        "trusted": true,
        "id": "-QzrI_w1cVMd"
      },
      "execution_count": 17,
      "outputs": []
    },
    {
      "cell_type": "code",
      "source": [
        "# Customize iPython writefile so we can write variables\n",
        "from IPython.core.magic import register_line_cell_magic\n",
        "\n",
        "@register_line_cell_magic\n",
        "def writetemplate(line, cell):\n",
        "    with open(line, 'w') as f:\n",
        "        f.write(cell.format(**globals()))"
      ],
      "metadata": {
        "execution": {
          "iopub.status.busy": "2023-04-27T08:02:01.896155Z",
          "iopub.execute_input": "2023-04-27T08:02:01.896649Z",
          "iopub.status.idle": "2023-04-27T08:02:01.903817Z",
          "shell.execute_reply.started": "2023-04-27T08:02:01.896600Z",
          "shell.execute_reply": "2023-04-27T08:02:01.902603Z"
        },
        "trusted": true,
        "id": "bmf3ECdBcVMf"
      },
      "execution_count": 8,
      "outputs": []
    },
    {
      "cell_type": "code",
      "source": [
        "# Define model structure\n",
        "\n",
        "%%writetemplate ./data.yaml\n",
        "\n",
        "# parameters\n",
        "train : ./train\n",
        "val : ./valid\n",
        "names : ['Person']\n",
        "nc: {num_classes}  # number of classes\n",
        "depth_multiple: 0.33  # model depth multiple\n",
        "width_multiple: 0.50  # layer channel multiple\n",
        "\n",
        "# anchors\n",
        "anchors:\n",
        "  - [10,13, 16,30, 33,23]  # P3/8\n",
        "  - [30,61, 62,45, 59,119]  # P4/16\n",
        "  - [116,90, 156,198, 373,326]  # P5/32\n",
        "\n",
        "# YOLOv5 backbone\n",
        "backbone:\n",
        "  # [from, number, module, args]\n",
        "  [[-1, 1, Focus, [64, 3]],  # 0-P1/2\n",
        "   [-1, 1, Conv, [128, 3, 2]],  # 1-P2/4\n",
        "   [-1, 3, BottleneckCSP, [128]],\n",
        "   [-1, 1, Conv, [256, 3, 2]],  # 3-P3/8\n",
        "   [-1, 9, BottleneckCSP, [256]],\n",
        "   [-1, 1, Conv, [512, 3, 2]],  # 5-P4/16\n",
        "   [-1, 9, BottleneckCSP, [512]],\n",
        "   [-1, 1, Conv, [1024, 3, 2]],  # 7-P5/32\n",
        "   [-1, 1, SPP, [1024, [5, 9, 13]]],\n",
        "   [-1, 3, BottleneckCSP, [1024, False]],  # 9\n",
        "  ]\n",
        "\n",
        "# YOLOv5 head\n",
        "head:\n",
        "  [[-1, 1, Conv, [512, 1, 1]],\n",
        "   [-1, 1, nn.Upsample, [None, 2, 'nearest']],\n",
        "   [[-1, 6], 1, Concat, [1]],  # cat backbone P4\n",
        "   [-1, 3, BottleneckCSP, [512, False]],  # 13\n",
        "\n",
        "   [-1, 1, Conv, [256, 1, 1]],\n",
        "   [-1, 1, nn.Upsample, [None, 2, 'nearest']],\n",
        "   [[-1, 4], 1, Concat, [1]],  # cat backbone P3\n",
        "   [-1, 3, BottleneckCSP, [256, False]],  # 17 (P3/8-small)\n",
        "\n",
        "   [-1, 1, Conv, [256, 3, 2]],\n",
        "   [[-1, 14], 1, Concat, [1]],  # cat head P4\n",
        "   [-1, 3, BottleneckCSP, [512, False]],  # 20 (P4/16-medium)\n",
        "\n",
        "   [-1, 1, Conv, [512, 3, 2]],\n",
        "   [[-1, 10], 1, Concat, [1]],  # cat head P5\n",
        "   [-1, 3, BottleneckCSP, [1024, False]],  # 23 (P5/32-large)\n",
        "\n",
        "   [[17, 20, 23], 1, Detect, [nc, anchors]],  # Detect(P3, P4, P5)\n",
        "  ]"
      ],
      "metadata": {
        "execution": {
          "iopub.status.busy": "2023-04-27T08:02:01.905486Z",
          "iopub.execute_input": "2023-04-27T08:02:01.906702Z",
          "iopub.status.idle": "2023-04-27T08:02:01.914766Z",
          "shell.execute_reply.started": "2023-04-27T08:02:01.906662Z",
          "shell.execute_reply": "2023-04-27T08:02:01.913798Z"
        },
        "trusted": true,
        "id": "r8Gh5bhecVMh"
      },
      "execution_count": 17,
      "outputs": []
    },
    {
      "cell_type": "code",
      "source": [
        "%cat ./models/yolov5s.yaml"
      ],
      "metadata": {
        "execution": {
          "iopub.status.busy": "2023-04-27T08:02:01.916243Z",
          "iopub.execute_input": "2023-04-27T08:02:01.916806Z",
          "iopub.status.idle": "2023-04-27T08:02:02.973207Z",
          "shell.execute_reply.started": "2023-04-27T08:02:01.916769Z",
          "shell.execute_reply": "2023-04-27T08:02:02.971924Z"
        },
        "trusted": true,
        "id": "uaIQCOc9cVMm"
      },
      "execution_count": 17,
      "outputs": []
    },
    {
      "cell_type": "code",
      "source": [
        "!pip install wandb -q"
      ],
      "metadata": {
        "execution": {
          "iopub.status.busy": "2023-04-27T08:02:02.975481Z",
          "iopub.execute_input": "2023-04-27T08:02:02.975914Z",
          "iopub.status.idle": "2023-04-27T08:02:13.218551Z",
          "shell.execute_reply.started": "2023-04-27T08:02:02.975867Z",
          "shell.execute_reply": "2023-04-27T08:02:13.217315Z"
        },
        "trusted": true,
        "id": "oI_FYQKzcVMp"
      },
      "execution_count": 17,
      "outputs": []
    },
    {
      "cell_type": "code",
      "source": [
        "!git pull"
      ],
      "metadata": {
        "execution": {
          "iopub.status.busy": "2023-04-27T08:02:14.292548Z",
          "iopub.execute_input": "2023-04-27T08:02:14.293032Z",
          "iopub.status.idle": "2023-04-27T08:02:15.744670Z",
          "shell.execute_reply.started": "2023-04-27T08:02:14.292988Z",
          "shell.execute_reply": "2023-04-27T08:02:15.743458Z"
        },
        "trusted": true,
        "id": "3Wr6OJfucVMt"
      },
      "execution_count": 17,
      "outputs": []
    },
    {
      "cell_type": "code",
      "source": [
        "if torch.cuda.is_available():\n",
        "    print(\"GPU is available\")\n",
        "    device = torch.device(\"cuda:0\")\n",
        "else:\n",
        "    print(\"GPU not available, using CPU instead\")\n",
        "    device = torch.device(\"cpu\")"
      ],
      "metadata": {
        "execution": {
          "iopub.status.busy": "2023-04-27T08:02:21.383257Z",
          "iopub.execute_input": "2023-04-27T08:02:21.383782Z",
          "iopub.status.idle": "2023-04-27T08:02:21.395741Z",
          "shell.execute_reply.started": "2023-04-27T08:02:21.383734Z",
          "shell.execute_reply": "2023-04-27T08:02:21.394480Z"
        },
        "trusted": true,
        "id": "zOf0xEQccVMu"
      },
      "execution_count": 17,
      "outputs": []
    },
    {
      "cell_type": "code",
      "source": [
        "!export WANDB_API_KEY=742aac2df6aee3508d1fdb5ad95cb60e7ea2dbdd && python train.py --img 416 --batch 16 --epochs 100 --data './data.yaml' --cfg ./models/yolov5s.yaml --weights '' --name ./yolov5s_results --cache"
      ],
      "metadata": {
        "execution": {
          "iopub.status.busy": "2023-04-27T08:45:42.311773Z",
          "iopub.execute_input": "2023-04-27T08:45:42.312949Z",
          "iopub.status.idle": "2023-04-27T09:19:27.965690Z",
          "shell.execute_reply.started": "2023-04-27T08:45:42.312900Z",
          "shell.execute_reply": "2023-04-27T09:19:27.964433Z"
        },
        "trusted": true,
        "id": "LMt00u_pcVMw"
      },
      "execution_count": 17,
      "outputs": []
    },
    {
      "cell_type": "code",
      "source": [
        "img = mpimg.imread('./runs/train/yolov5s_results2/results.png')\n",
        "\n",
        "plt.figure(figsize=(20, 10))\n",
        "plt.imshow(img)\n",
        "plt.show()"
      ],
      "metadata": {
        "execution": {
          "iopub.status.busy": "2023-04-27T11:30:09.148057Z",
          "iopub.execute_input": "2023-04-27T11:30:09.148504Z",
          "iopub.status.idle": "2023-04-27T11:30:10.063574Z",
          "shell.execute_reply.started": "2023-04-27T11:30:09.148465Z",
          "shell.execute_reply": "2023-04-27T11:30:10.062616Z"
        },
        "trusted": true,
        "id": "TQqjpYcZcVMw"
      },
      "execution_count": 17,
      "outputs": []
    },
    {
      "cell_type": "code",
      "source": [
        "!python detect.py --weights ./runs/train/yolov5s_results2/weights/best.pt --img 416 --conf 0.4 --source ./valid/images"
      ],
      "metadata": {
        "execution": {
          "iopub.status.busy": "2023-04-27T11:01:49.931585Z",
          "iopub.execute_input": "2023-04-27T11:01:49.932553Z",
          "iopub.status.idle": "2023-04-27T11:02:06.989842Z",
          "shell.execute_reply.started": "2023-04-27T11:01:49.932512Z",
          "shell.execute_reply": "2023-04-27T11:02:06.988501Z"
        },
        "trusted": true,
        "id": "WYEdfGHzcVMx"
      },
      "execution_count": null,
      "outputs": []
    },
    {
      "cell_type": "code",
      "source": [
        "import matplotlib.pyplot as plt\n",
        "import matplotlib.image as mpimg"
      ],
      "metadata": {
        "execution": {
          "iopub.status.busy": "2023-04-27T11:04:35.270213Z",
          "iopub.execute_input": "2023-04-27T11:04:35.271045Z",
          "iopub.status.idle": "2023-04-27T11:04:35.276869Z",
          "shell.execute_reply.started": "2023-04-27T11:04:35.270990Z",
          "shell.execute_reply": "2023-04-27T11:04:35.275641Z"
        },
        "trusted": true,
        "id": "0g7tSdOlcVMy"
      },
      "execution_count": null,
      "outputs": []
    },
    {
      "cell_type": "code",
      "source": [
        "for det_img in [\n",
        "    'train_BLA_0006_JPG.rf.586dd34289f6bc89c3fd33b16c30190e.jpg',\n",
        "    'train_BRA_1003_JPG.rf.a3f32a60314fdb79d054f284d712f1c8.jpg',\n",
        "    'train_ZRI_2012_JPG.rf.c9d7bfac5fbc26c34c2e567ee09ed736.jpg',\n",
        "    'train_ZRI_2018_JPG.rf.20a15d8fc0c97f8f4add326d3890030c.jpg']:\n",
        "    # load image examle\n",
        "    img = mpimg.imread('/kaggle/working/yolov5/runs/detect/exp6/'+det_img)\n",
        "\n",
        "    # Show image example\n",
        "    plt.imshow(img)\n",
        "    plt.show()"
      ],
      "metadata": {
        "execution": {
          "iopub.status.busy": "2023-04-27T11:06:16.845085Z",
          "iopub.execute_input": "2023-04-27T11:06:16.846291Z",
          "iopub.status.idle": "2023-04-27T11:06:18.118354Z",
          "shell.execute_reply.started": "2023-04-27T11:06:16.846231Z",
          "shell.execute_reply": "2023-04-27T11:06:18.117258Z"
        },
        "trusted": true,
        "id": "QviCsbtYcVMz"
      },
      "execution_count": null,
      "outputs": []
    },
    {
      "cell_type": "code",
      "source": [
        "!python val.py --weights ./runs/train/yolov5s_results2/weights/best.pt --data ./data.yaml --img 416 --half"
      ],
      "metadata": {
        "execution": {
          "iopub.status.busy": "2023-04-27T11:36:52.150919Z",
          "iopub.execute_input": "2023-04-27T11:36:52.152013Z",
          "iopub.status.idle": "2023-04-27T11:37:08.947404Z",
          "shell.execute_reply.started": "2023-04-27T11:36:52.151961Z",
          "shell.execute_reply": "2023-04-27T11:37:08.946039Z"
        },
        "trusted": true,
        "id": "_OTABRvhcVM1"
      },
      "execution_count": null,
      "outputs": []
    },
    {
      "cell_type": "code",
      "source": [
        "!ls /runs/val/exp"
      ],
      "metadata": {
        "execution": {
          "iopub.status.busy": "2023-04-27T11:38:04.748703Z",
          "iopub.execute_input": "2023-04-27T11:38:04.749150Z",
          "iopub.status.idle": "2023-04-27T11:38:05.738203Z",
          "shell.execute_reply.started": "2023-04-27T11:38:04.749110Z",
          "shell.execute_reply": "2023-04-27T11:38:05.736884Z"
        },
        "trusted": true,
        "id": "xgIYbQAtcVM2"
      },
      "execution_count": null,
      "outputs": []
    },
    {
      "cell_type": "code",
      "source": [
        "img = mpimg.imread('./runs/val/exp/confusion_matrix.png')\n",
        "\n",
        "plt.figure(figsize=(20, 10))\n",
        "plt.imshow(img)\n",
        "plt.show()"
      ],
      "metadata": {
        "execution": {
          "iopub.status.busy": "2023-04-27T11:38:59.532310Z",
          "iopub.execute_input": "2023-04-27T11:38:59.533521Z",
          "iopub.status.idle": "2023-04-27T11:39:00.935358Z",
          "shell.execute_reply.started": "2023-04-27T11:38:59.533469Z",
          "shell.execute_reply": "2023-04-27T11:39:00.934362Z"
        },
        "trusted": true,
        "id": "1Mq6pLDpcVM2"
      },
      "execution_count": null,
      "outputs": []
    },
    {
      "cell_type": "code",
      "source": [
        "import shutil\n",
        "\n",
        "shutil.move('source_path/filename.extension', '/kaggle/working/filename.extension')"
      ],
      "metadata": {
        "id": "oUTJnoc_gjH0"
      },
      "execution_count": null,
      "outputs": []
    },
    {
      "cell_type": "code",
      "source": [
        "!tar -czf output.tar.gz /kaggle/working/*"
      ],
      "metadata": {
        "id": "y5ucZG5bgpky"
      },
      "execution_count": null,
      "outputs": []
    }
  ]
}