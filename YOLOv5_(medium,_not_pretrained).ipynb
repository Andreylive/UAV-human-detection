{
  "metadata": {
    "kernelspec": {
      "language": "python",
      "display_name": "Python 3",
      "name": "python3"
    },
    "language_info": {
      "name": "python",
      "version": "3.7.12",
      "mimetype": "text/x-python",
      "codemirror_mode": {
        "name": "ipython",
        "version": 3
      },
      "pygments_lexer": "ipython3",
      "nbconvert_exporter": "python",
      "file_extension": ".py"
    },
    "colab": {
      "provenance": [],
      "include_colab_link": true
    }
  },
  "nbformat_minor": 0,
  "nbformat": 4,
  "cells": [
    {
      "cell_type": "markdown",
      "metadata": {
        "id": "view-in-github",
        "colab_type": "text"
      },
      "source": [
        "<a href=\"https://colab.research.google.com/github/Andreylive/UAV-human-detection/blob/main/YOLOv5_(medium%2C_not_pretrained).ipynb\" target=\"_parent\"><img src=\"https://colab.research.google.com/assets/colab-badge.svg\" alt=\"Open In Colab\"/></a>"
      ]
    },
    {
      "cell_type": "code",
      "source": [
        "# clone YOLOv5 repository\n",
        "!git clone https://github.com/ultralytics/yolov5\n",
        "%cd yolov5\n",
        "!git pull\n",
        "\n",
        "!git reset --hard 886f1c03d839575afecb059accf74296fad395b6"
      ],
      "metadata": {
        "_uuid": "8f2839f25d086af736a60e9eeb907d3b93b6e0e5",
        "_cell_guid": "b1076dfc-b9ad-4769-8c92-a6c4dae69d19",
        "execution": {
          "iopub.status.busy": "2023-05-08T12:51:34.646976Z",
          "iopub.execute_input": "2023-05-08T12:51:34.647809Z",
          "iopub.status.idle": "2023-05-08T12:51:40.956746Z",
          "shell.execute_reply.started": "2023-05-08T12:51:34.647770Z",
          "shell.execute_reply": "2023-05-08T12:51:40.955422Z"
        },
        "trusted": true,
        "id": "_BGc4Gw9Oqlj"
      },
      "execution_count": null,
      "outputs": []
    },
    {
      "cell_type": "code",
      "source": [
        "# install dependencies as necessary\n",
        "!pip install -qr requirements.txt  # install dependencies (ignore errors)\n",
        "import torch\n",
        "\n",
        "from IPython.display import Image, clear_output  # to display images\n",
        "from utils.google_utils import gdrive_download  # to download models/datasets\n",
        "\n",
        "# clear_output()\n",
        "print('Setup complete. Using torch %s %s' % (torch.__version__, torch.cuda.get_device_properties(0) if torch.cuda.is_available() else 'CPU'))"
      ],
      "metadata": {
        "execution": {
          "iopub.status.busy": "2023-05-08T12:52:35.868468Z",
          "iopub.execute_input": "2023-05-08T12:52:35.868875Z",
          "iopub.status.idle": "2023-05-08T12:53:11.606152Z",
          "shell.execute_reply.started": "2023-05-08T12:52:35.868839Z",
          "shell.execute_reply": "2023-05-08T12:53:11.605029Z"
        },
        "trusted": true,
        "id": "wfVi6PVJOqln"
      },
      "execution_count": null,
      "outputs": []
    },
    {
      "cell_type": "code",
      "source": [
        "!curl -L \"https://app.roboflow.com/ds/YCsKLvAbzh?key=wauxyPlLFl\" > roboflow.zip; unzip roboflow.zip; rm roboflow.zip"
      ],
      "metadata": {
        "execution": {
          "iopub.status.busy": "2023-05-08T12:53:22.362236Z",
          "iopub.execute_input": "2023-05-08T12:53:22.363228Z",
          "iopub.status.idle": "2023-05-08T12:53:26.960626Z",
          "shell.execute_reply.started": "2023-05-08T12:53:22.363187Z",
          "shell.execute_reply": "2023-05-08T12:53:26.959154Z"
        },
        "trusted": true,
        "id": "0C64WcOLOqlo"
      },
      "execution_count": null,
      "outputs": []
    },
    {
      "cell_type": "code",
      "source": [
        "# this is the YAML file Roboflow wrote for us that we're loading into this notebook with our data\n",
        "%cat data.yaml"
      ],
      "metadata": {
        "execution": {
          "iopub.status.busy": "2023-05-08T12:53:57.552733Z",
          "iopub.execute_input": "2023-05-08T12:53:57.553141Z",
          "iopub.status.idle": "2023-05-08T12:53:58.506011Z",
          "shell.execute_reply.started": "2023-05-08T12:53:57.553106Z",
          "shell.execute_reply": "2023-05-08T12:53:58.504657Z"
        },
        "trusted": true,
        "id": "vvy7W923Oqlo"
      },
      "execution_count": null,
      "outputs": []
    },
    {
      "cell_type": "code",
      "source": [
        "# define number of classes based on YAML\n",
        "import yaml\n",
        "with open(\"data.yaml\", 'r') as stream:\n",
        "    num_classes = str(yaml.safe_load(stream)['nc'])"
      ],
      "metadata": {
        "execution": {
          "iopub.status.busy": "2023-05-08T12:54:11.488693Z",
          "iopub.execute_input": "2023-05-08T12:54:11.489851Z",
          "iopub.status.idle": "2023-05-08T12:54:11.497151Z",
          "shell.execute_reply.started": "2023-05-08T12:54:11.489802Z",
          "shell.execute_reply": "2023-05-08T12:54:11.495580Z"
        },
        "trusted": true,
        "id": "Cx-UC9siOqlp"
      },
      "execution_count": null,
      "outputs": []
    },
    {
      "cell_type": "code",
      "source": [
        "#this is the model configuration we will use for our tutorial \n",
        "%cat ./data.yaml"
      ],
      "metadata": {
        "execution": {
          "iopub.status.busy": "2023-05-08T12:54:14.543734Z",
          "iopub.execute_input": "2023-05-08T12:54:14.544667Z",
          "iopub.status.idle": "2023-05-08T12:54:15.510951Z",
          "shell.execute_reply.started": "2023-05-08T12:54:14.544616Z",
          "shell.execute_reply": "2023-05-08T12:54:15.509456Z"
        },
        "trusted": true,
        "id": "qBHzOzhvOqlp"
      },
      "execution_count": null,
      "outputs": []
    },
    {
      "cell_type": "code",
      "source": [
        "#customize iPython writefile so we can write variables\n",
        "from IPython.core.magic import register_line_cell_magic\n",
        "\n",
        "@register_line_cell_magic\n",
        "def writetemplate(line, cell):\n",
        "    with open(line, 'w') as f:\n",
        "        f.write(cell.format(**globals()))"
      ],
      "metadata": {
        "execution": {
          "iopub.status.busy": "2023-05-08T12:54:26.673131Z",
          "iopub.execute_input": "2023-05-08T12:54:26.673593Z",
          "iopub.status.idle": "2023-05-08T12:54:26.680776Z",
          "shell.execute_reply.started": "2023-05-08T12:54:26.673554Z",
          "shell.execute_reply": "2023-05-08T12:54:26.679389Z"
        },
        "trusted": true,
        "id": "MGEQOgblOqlp"
      },
      "execution_count": null,
      "outputs": []
    },
    {
      "cell_type": "code",
      "source": [
        "%%writetemplate ./data.yaml\n",
        "\n",
        "# parameters\n",
        "train : ./train\n",
        "val : ./valid\n",
        "names : ['Person']\n",
        "nc: {num_classes}  # number of classes\n",
        "depth_multiple: 0.33  # model depth multiple\n",
        "width_multiple: 0.50  # layer channel multiple\n",
        "\n",
        "# anchors\n",
        "anchors:\n",
        "  - [10,13, 16,30, 33,23]  # P3/8\n",
        "  - [30,61, 62,45, 59,119]  # P4/16\n",
        "  - [116,90, 156,198, 373,326]  # P5/32\n",
        "\n",
        "# YOLOv5 backbone\n",
        "backbone:\n",
        "  # [from, number, module, args]\n",
        "  [[-1, 1, Focus, [64, 3]],  # 0-P1/2\n",
        "   [-1, 1, Conv, [128, 3, 2]],  # 1-P2/4\n",
        "   [-1, 3, BottleneckCSP, [128]],\n",
        "   [-1, 1, Conv, [256, 3, 2]],  # 3-P3/8\n",
        "   [-1, 9, BottleneckCSP, [256]],\n",
        "   [-1, 1, Conv, [512, 3, 2]],  # 5-P4/16\n",
        "   [-1, 9, BottleneckCSP, [512]],\n",
        "   [-1, 1, Conv, [1024, 3, 2]],  # 7-P5/32\n",
        "   [-1, 1, SPP, [1024, [5, 9, 13]]],\n",
        "   [-1, 3, BottleneckCSP, [1024, False]],  # 9\n",
        "  ]\n",
        "\n",
        "# YOLOv5 head\n",
        "head:\n",
        "  [[-1, 1, Conv, [512, 1, 1]],\n",
        "   [-1, 1, nn.Upsample, [None, 2, 'nearest']],\n",
        "   [[-1, 6], 1, Concat, [1]],  # cat backbone P4\n",
        "   [-1, 3, BottleneckCSP, [512, False]],  # 13\n",
        "\n",
        "   [-1, 1, Conv, [256, 1, 1]],\n",
        "   [-1, 1, nn.Upsample, [None, 2, 'nearest']],\n",
        "   [[-1, 4], 1, Concat, [1]],  # cat backbone P3\n",
        "   [-1, 3, BottleneckCSP, [256, False]],  # 17 (P3/8-small)\n",
        "\n",
        "   [-1, 1, Conv, [256, 3, 2]],\n",
        "   [[-1, 14], 1, Concat, [1]],  # cat head P4\n",
        "   [-1, 3, BottleneckCSP, [512, False]],  # 20 (P4/16-medium)\n",
        "\n",
        "   [-1, 1, Conv, [512, 3, 2]],\n",
        "   [[-1, 10], 1, Concat, [1]],  # cat head P5\n",
        "   [-1, 3, BottleneckCSP, [1024, False]],  # 23 (P5/32-large)\n",
        "\n",
        "   [[17, 20, 23], 1, Detect, [nc, anchors]],  # Detect(P3, P4, P5)\n",
        "  ]"
      ],
      "metadata": {
        "execution": {
          "iopub.status.busy": "2023-05-08T12:55:13.827812Z",
          "iopub.execute_input": "2023-05-08T12:55:13.828823Z",
          "iopub.status.idle": "2023-05-08T12:55:13.834514Z",
          "shell.execute_reply.started": "2023-05-08T12:55:13.828781Z",
          "shell.execute_reply": "2023-05-08T12:55:13.833386Z"
        },
        "trusted": true,
        "id": "7yfdkxvpOqlq"
      },
      "execution_count": null,
      "outputs": []
    },
    {
      "cell_type": "code",
      "source": [
        "%cat ./models/yolov5m.yaml"
      ],
      "metadata": {
        "execution": {
          "iopub.status.busy": "2023-05-08T12:55:29.691305Z",
          "iopub.execute_input": "2023-05-08T12:55:29.692122Z",
          "iopub.status.idle": "2023-05-08T12:55:30.716349Z",
          "shell.execute_reply.started": "2023-05-08T12:55:29.692082Z",
          "shell.execute_reply": "2023-05-08T12:55:30.715131Z"
        },
        "trusted": true,
        "id": "Z6hn_Y4ZOqlr"
      },
      "execution_count": null,
      "outputs": []
    },
    {
      "cell_type": "code",
      "source": [
        "!pip install wandb -q"
      ],
      "metadata": {
        "execution": {
          "iopub.status.busy": "2023-05-08T12:56:09.549476Z",
          "iopub.execute_input": "2023-05-08T12:56:09.550594Z",
          "iopub.status.idle": "2023-05-08T12:56:19.354970Z",
          "shell.execute_reply.started": "2023-05-08T12:56:09.550546Z",
          "shell.execute_reply": "2023-05-08T12:56:19.353816Z"
        },
        "trusted": true,
        "id": "EdlfJrIHOqlr"
      },
      "execution_count": null,
      "outputs": []
    },
    {
      "cell_type": "code",
      "source": [
        "cd yolov5"
      ],
      "metadata": {
        "execution": {
          "iopub.status.busy": "2023-05-08T12:56:28.628558Z",
          "iopub.execute_input": "2023-05-08T12:56:28.629516Z",
          "iopub.status.idle": "2023-05-08T12:56:28.636068Z",
          "shell.execute_reply.started": "2023-05-08T12:56:28.629473Z",
          "shell.execute_reply": "2023-05-08T12:56:28.634829Z"
        },
        "trusted": true,
        "id": "5IVFklSVOqls"
      },
      "execution_count": null,
      "outputs": []
    },
    {
      "cell_type": "code",
      "source": [
        "ls"
      ],
      "metadata": {
        "execution": {
          "iopub.status.busy": "2023-05-08T12:56:31.602120Z",
          "iopub.execute_input": "2023-05-08T12:56:31.602850Z",
          "iopub.status.idle": "2023-05-08T12:56:32.589736Z",
          "shell.execute_reply.started": "2023-05-08T12:56:31.602809Z",
          "shell.execute_reply": "2023-05-08T12:56:32.588294Z"
        },
        "trusted": true,
        "id": "oHy78P9vOqls"
      },
      "execution_count": null,
      "outputs": []
    },
    {
      "cell_type": "code",
      "source": [
        "!git pull"
      ],
      "metadata": {
        "execution": {
          "iopub.status.busy": "2023-05-08T12:56:42.755735Z",
          "iopub.execute_input": "2023-05-08T12:56:42.756133Z",
          "iopub.status.idle": "2023-05-08T12:56:44.130557Z",
          "shell.execute_reply.started": "2023-05-08T12:56:42.756098Z",
          "shell.execute_reply": "2023-05-08T12:56:44.129226Z"
        },
        "trusted": true,
        "id": "lOotgIu-Oqls"
      },
      "execution_count": null,
      "outputs": []
    },
    {
      "cell_type": "code",
      "source": [
        "if torch.cuda.is_available():\n",
        "    print(\"GPU is available\")\n",
        "    device = torch.device(\"cuda:0\")\n",
        "else:\n",
        "    print(\"GPU not available, using CPU instead\")\n",
        "    device = torch.device(\"cpu\")\n"
      ],
      "metadata": {
        "execution": {
          "iopub.status.busy": "2023-05-08T12:57:07.782997Z",
          "iopub.execute_input": "2023-05-08T12:57:07.783565Z",
          "iopub.status.idle": "2023-05-08T12:57:07.792376Z",
          "shell.execute_reply.started": "2023-05-08T12:57:07.783515Z",
          "shell.execute_reply": "2023-05-08T12:57:07.791236Z"
        },
        "trusted": true,
        "id": "098buKZ9Oqlt"
      },
      "execution_count": null,
      "outputs": []
    },
    {
      "cell_type": "code",
      "source": [
        "!export WANDB_API_KEY=742aac2df6aee3508d1fdb5ad95cb60e7ea2dbdd && python train.py --img 416 --batch 16 --epochs 100 --data './data.yaml' --cfg ./models/yolov5m.yaml --weights '' --name ./yolov5m_results --cache"
      ],
      "metadata": {
        "execution": {
          "iopub.status.busy": "2023-05-08T13:34:11.275621Z",
          "iopub.execute_input": "2023-05-08T13:34:11.276042Z",
          "iopub.status.idle": "2023-05-08T14:16:06.718441Z",
          "shell.execute_reply.started": "2023-05-08T13:34:11.276007Z",
          "shell.execute_reply": "2023-05-08T14:16:06.716753Z"
        },
        "trusted": true,
        "id": "y8jhhpCpOqlt"
      },
      "execution_count": null,
      "outputs": []
    },
    {
      "cell_type": "code",
      "source": [
        "img = mpimg.imread('./runs/train/yolov5s_results2/results.png')\n",
        "\n",
        "plt.figure(figsize=(20, 10))\n",
        "plt.imshow(img)\n",
        "plt.show()"
      ],
      "metadata": {
        "execution": {
          "iopub.status.busy": "2023-05-08T14:16:23.676110Z",
          "iopub.execute_input": "2023-05-08T14:16:23.676529Z",
          "iopub.status.idle": "2023-05-08T14:16:23.707805Z",
          "shell.execute_reply.started": "2023-05-08T14:16:23.676486Z",
          "shell.execute_reply": "2023-05-08T14:16:23.705977Z"
        },
        "trusted": true,
        "id": "khCvQMQROqlt"
      },
      "execution_count": null,
      "outputs": []
    },
    {
      "cell_type": "code",
      "source": [
        "!python detect.py --weights ./runs/train/yolov5s_results2/weights/best.pt --img 416 --conf 0.4 --source ./valid/images"
      ],
      "metadata": {
        "execution": {
          "iopub.status.busy": "2023-05-08T14:16:29.710459Z",
          "iopub.execute_input": "2023-05-08T14:16:29.711164Z",
          "iopub.status.idle": "2023-05-08T14:16:35.040916Z",
          "shell.execute_reply.started": "2023-05-08T14:16:29.711124Z",
          "shell.execute_reply": "2023-05-08T14:16:35.039552Z"
        },
        "trusted": true,
        "id": "CAFm0F9sOqlt"
      },
      "execution_count": null,
      "outputs": []
    },
    {
      "cell_type": "code",
      "source": [
        "import matplotlib.pyplot as plt\n",
        "import matplotlib.image as mpimg"
      ],
      "metadata": {
        "execution": {
          "iopub.status.busy": "2023-05-08T14:16:57.631881Z",
          "iopub.execute_input": "2023-05-08T14:16:57.632542Z",
          "iopub.status.idle": "2023-05-08T14:16:57.637488Z",
          "shell.execute_reply.started": "2023-05-08T14:16:57.632503Z",
          "shell.execute_reply": "2023-05-08T14:16:57.636354Z"
        },
        "trusted": true,
        "id": "ITnVIs21Oqlt"
      },
      "execution_count": null,
      "outputs": []
    },
    {
      "cell_type": "code",
      "source": [
        "for det_img in [\n",
        "    'train_BLA_0006_JPG.rf.586dd34289f6bc89c3fd33b16c30190e.jpg',\n",
        "    'train_BRA_1003_JPG.rf.a3f32a60314fdb79d054f284d712f1c8.jpg',\n",
        "    'train_ZRI_2012_JPG.rf.c9d7bfac5fbc26c34c2e567ee09ed736.jpg',\n",
        "    'train_ZRI_2018_JPG.rf.20a15d8fc0c97f8f4add326d3890030c.jpg']:\n",
        "    # Загрузка изображения\n",
        "    img = mpimg.imread('/kaggle/working/yolov5/runs/detect/exp6/'+det_img)\n",
        "\n",
        "    # Отображение изображения\n",
        "    plt.imshow(img)\n",
        "    plt.show()"
      ],
      "metadata": {
        "execution": {
          "iopub.status.busy": "2023-05-08T14:17:02.704179Z",
          "iopub.execute_input": "2023-05-08T14:17:02.704890Z",
          "iopub.status.idle": "2023-05-08T14:17:02.737652Z",
          "shell.execute_reply.started": "2023-05-08T14:17:02.704851Z",
          "shell.execute_reply": "2023-05-08T14:17:02.735990Z"
        },
        "trusted": true,
        "id": "mKYJMFCbOqlu"
      },
      "execution_count": null,
      "outputs": []
    },
    {
      "cell_type": "code",
      "source": [
        "!python val.py --weights ./runs/train/yolov5m_results2/weights/best.pt --data ./data.yaml --img 416 --half"
      ],
      "metadata": {
        "execution": {
          "iopub.status.busy": "2023-05-08T14:17:09.355136Z",
          "iopub.execute_input": "2023-05-08T14:17:09.355813Z",
          "iopub.status.idle": "2023-05-08T14:17:26.485617Z",
          "shell.execute_reply.started": "2023-05-08T14:17:09.355780Z",
          "shell.execute_reply": "2023-05-08T14:17:26.484250Z"
        },
        "trusted": true,
        "id": "eOKYfYFUOqlu"
      },
      "execution_count": null,
      "outputs": []
    },
    {
      "cell_type": "code",
      "source": [
        "!ls /runs/val/exp"
      ],
      "metadata": {
        "execution": {
          "iopub.status.busy": "2023-05-08T14:17:49.836050Z",
          "iopub.execute_input": "2023-05-08T14:17:49.836565Z",
          "iopub.status.idle": "2023-05-08T14:17:50.788127Z",
          "shell.execute_reply.started": "2023-05-08T14:17:49.836528Z",
          "shell.execute_reply": "2023-05-08T14:17:50.786915Z"
        },
        "trusted": true,
        "id": "_GyApSXIOqlu"
      },
      "execution_count": null,
      "outputs": []
    },
    {
      "cell_type": "code",
      "source": [
        "img = mpimg.imread('./runs/val/exp/confusion_matrix.png')\n",
        "\n",
        "plt.figure(figsize=(20, 10))\n",
        "plt.imshow(img)\n",
        "plt.show()"
      ],
      "metadata": {
        "execution": {
          "iopub.status.busy": "2023-05-08T14:17:46.517527Z",
          "iopub.execute_input": "2023-05-08T14:17:46.518171Z",
          "iopub.status.idle": "2023-05-08T14:17:47.958029Z",
          "shell.execute_reply.started": "2023-05-08T14:17:46.518130Z",
          "shell.execute_reply": "2023-05-08T14:17:47.956863Z"
        },
        "trusted": true,
        "id": "C5KfNFSHOqlu"
      },
      "execution_count": null,
      "outputs": []
    },
    {
      "cell_type": "markdown",
      "source": [
        "#### FPS\n",
        "FPS означает «Кадров в секунду». Это метрика, обычно используемая для оценки производительности приложений компьютерного зрения в реальном времени, таких как обнаружение объектов, отслеживание и обработка видео. В контексте моделей обнаружения объектов и глубокого обучения, таких как YOLO, FPS используется для измерения того, насколько быстро модель может обрабатывать изображения на этапе вывода или прогнозирования, а не на этапе обучения.\n",
        "\n",
        "Более высокий FPS указывает на то, что модель может обрабатывать больше изображений за заданный промежуток времени, что делает ее более подходящей для приложений реального времени, где требуется быстрое и точное обнаружение. Более низкие значения FPS могут быть не идеальными для сценариев реального времени, но все же могут использоваться в менее чувствительных ко времени приложениях.\n",
        "\n",
        "Посчитаем его основываясь на параметрах детекции:\n",
        "\n",
        "    - Pre-process time: 0.3ms\n",
        "    - Inference time: 11.2ms\n",
        "    - NMS (Non-Maximum Suppression) time: 0.3ms\n",
        "    \n",
        "Чтобы рассчитать FPS, нужно сложить эти времена вместе, чтобы получить общее время на изображение, а затем преобразовать его в кадры в секунду.\n",
        "\n",
        "Общее время на изображение (в секундах) = (0,3 + 11,2 + 0,3) / 1000 = 0,0118 секунд\n",
        "\n",
        "Теперь посчитаем FPS:\n",
        "\n",
        "FPS = 1 / Общее время на изображение = 1 / 0,0118 = 84,75\n",
        "\n",
        "Итак, FPS для вашей модели составляет 84,75."
      ],
      "metadata": {
        "id": "63UEUArJOqlv"
      }
    },
    {
      "cell_type": "markdown",
      "source": [
        "## Итог\n",
        "Мы использовали модель Yolo V5 small\n",
        "Это настраиваемый файл конфигурации модели YOLOv5. Модель имеет конструкцию, состоящую из позвоночника и головы. Магистраль отвечает за извлечение признаков, а головка отвечает за обнаружение объектов с помощью блоков привязки. Вот разбивка структуры:\n",
        "\n",
        " train и val указывают пути набора данных для обучения и проверки соответственно.\n",
        " имена содержат имена классов в вашем наборе данных (в данном случае «Человек»).\n",
        " nc — количество классов.\n",
        " depth_multiple и width_multiple — это гиперпараметры, управляющие глубиной и шириной модели.\n",
        " привязки — это предопределенные размеры блока привязки для различных масштабов карты объектов (P3/8, P4/16, P5/32).\n",
        "\n",
        "Костяк состоит из:\n",
        "\n",
        "Focus layer: объединяет пространственную информацию от соседних пикселей во входном изображении.\n",
        "Conv layers: выполните свертки с шагом 2, чтобы уменьшить выборку карт объектов.\n",
        "BottleneckCSP layers: межэтапные иерархические сети для лучшего градиентного потока и повторного использования функций.\n",
        "SPP (Spatial Pyramid Pooling) layer: объединяет объекты в нескольких масштабах для лучшего обнаружения объектов в разных масштабах.\n",
        "\n",
        "head состоит из:\n",
        "\n",
        " Слои Conv: уменьшите размер канала карт объектов.\n",
        " Повышение дискретизации слоев: повышайте дискретизацию карт объектов для объединения с объектами более низкого уровня.\n",
        " Слои Concat: объединяйте карты объектов из основы и головы.\n",
        " Слои узких мест CSP: Уточните объединенные карты объектов.\n",
        " Слой обнаружения: выполните обнаружение объектов с помощью полей привязки и выведите окончательные прогнозы.\n",
        "\n",
        "Модель использует три разных масштаба карты признаков (P3/8, P4/16, P5/32) для обнаружения объектов, что помогает обнаруживать объекты разных размеров на входных изображениях."
      ],
      "metadata": {
        "id": "WzSWBhzOOqlx"
      }
    },
    {
      "cell_type": "markdown",
      "source": [
        "## метрики\n",
        "- P    0.33          \n",
        "- R    0.221    \n",
        "- mAP50 0.166 \n",
        "- FPS 84,75"
      ],
      "metadata": {
        "id": "2my4tVMqOqlx"
      }
    },
    {
      "cell_type": "code",
      "source": [
        "import shutil\n",
        "\n",
        "shutil.move('source_path/filename.extension', '/kaggle/working/filename.extension')\n"
      ],
      "metadata": {
        "execution": {
          "iopub.status.busy": "2023-05-08T13:33:46.007408Z",
          "iopub.status.idle": "2023-05-08T13:33:46.008458Z",
          "shell.execute_reply.started": "2023-05-08T13:33:46.008177Z",
          "shell.execute_reply": "2023-05-08T13:33:46.008203Z"
        },
        "trusted": true,
        "id": "YU75vxpiOqlx"
      },
      "execution_count": null,
      "outputs": []
    },
    {
      "cell_type": "code",
      "source": [
        "!tar -czf output.tar.gz /kaggle/working/*\n"
      ],
      "metadata": {
        "execution": {
          "iopub.status.busy": "2023-05-08T13:33:46.009626Z",
          "iopub.status.idle": "2023-05-08T13:33:46.010523Z",
          "shell.execute_reply.started": "2023-05-08T13:33:46.010241Z",
          "shell.execute_reply": "2023-05-08T13:33:46.010268Z"
        },
        "trusted": true,
        "id": "FCFjzbmQOqly"
      },
      "execution_count": null,
      "outputs": []
    }
  ]
}